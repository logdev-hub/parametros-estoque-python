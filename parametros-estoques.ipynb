{
 "cells": [
  {
   "cell_type": "markdown",
   "metadata": {},
   "source": [
    "# Simulação de Parâmetros de Estoque com Visualização em Cards\n",
    "\n",
    "Este notebook calcula os principais parâmetros de controle de estoque e apresenta os resultados de forma visual com explicações acessíveis."
   ]
  },
  {
   "cell_type": "code",
   "execution_count": null,
   "metadata": {},
   "outputs": [],
   "source": [
    "import pandas as pd\n",
    "import numpy as np\n",
    "import matplotlib.pyplot as plt\n",
    "from matplotlib.patches import Rectangle\n",
    "from IPython.display import display, Markdown"
   ]
  },
  {
   "cell_type": "code",
   "execution_count": null,
   "metadata": {},
   "outputs": [],
   "source": [
    "# 🧮 Função para calcular os parâmetros logísticos\n",
    "def calcular_parametros(demanda_diaria, desvio_padrao_diario, lead_time_dias, custo_pedido, custo_armazenagem, preco_unitario):\n",
    "    z = 1.65  # 95% de nível de serviço\n",
    "    es = z * desvio_padrao_diario * np.sqrt(lead_time_dias)\n",
    "    estoque_max = es + (demanda_diaria * lead_time_dias)\n",
    "\n",
    "    # LEC limitado ao estoque máximo\n",
    "    demanda_anual = demanda_diaria * 250\n",
    "    lec = np.sqrt((2 * demanda_anual * custo_pedido) / (custo_armazenagem * preco_unitario))\n",
    "    lec = min(lec, estoque_max)\n",
    "\n",
    "    # Recalcula intervalo baseado no LEC ajustado\n",
    "    intervalo = lec / demanda_diaria\n",
    "\n",
    "    # Estoque médio condicionado\n",
    "    if lec >= estoque_max:\n",
    "        estoque_medio = es + ((demanda_diaria * lead_time_dias) / 2)\n",
    "    else:\n",
    "        estoque_medio = es + (lec / 2)\n",
    "\n",
    "    # PP = ponto de pedido\n",
    "    pp = es + (demanda_diaria * lead_time_dias) / 2\n",
    "    if pp > estoque_medio:\n",
    "        estoque_medio = pp  # garantia que EM ≥ PP\n",
    "\n",
    "    return {\n",
    "        \"ES\": round(es, 2),\n",
    "        \"PP\": round(pp, 2),\n",
    "        \"EMAX\": round(estoque_max, 2),\n",
    "        \"EM\": round(estoque_medio, 2),\n",
    "        \"LEC\": round(lec, 2),\n",
    "        \"IPD\": round(intervalo, 2)\n",
    "    }"
   ]
  },
  {
   "cell_type": "code",
   "execution_count": null,
   "metadata": {},
   "outputs": [],
   "source": [
    "# 🖼️ Função para gerar imagem em estilo \"cards\"\n",
    "def gerar_cards_parametros(dados):\n",
    "    fig, ax = plt.subplots(figsize=(12, 4))\n",
    "    ax.set_xlim(0, 6)\n",
    "    ax.set_ylim(0, 1)\n",
    "    ax.axis('off')\n",
    "\n",
    "    cores = ['#FF6666', '#FFB266', '#66CC99', '#66B2FF', '#C299FF', '#FF99C8']\n",
    "    siglas = list(dados.keys())\n",
    "    valores = list(dados.values())\n",
    "\n",
    "    for i, (sigla, valor) in enumerate(zip(siglas, valores)):\n",
    "        card = Rectangle((i, 0), 1, 1, edgecolor='black', facecolor=cores[i], linewidth=1.5)\n",
    "        ax.add_patch(card)\n",
    "        ax.text(i + 0.5, 0.65, sigla, ha='center', va='center', fontsize=13, fontweight='bold')\n",
    "        ax.text(i + 0.5, 0.35, f\"{valor}\", ha='center', va='center', fontsize=12)\n",
    "\n",
    "    plt.tight_layout()\n",
    "    plt.savefig(\"cards_simulacao_estoque.png\")\n",
    "    plt.show()"
   ]
  },
  {
   "cell_type": "code",
   "execution_count": null,
   "metadata": {},
   "outputs": [],
   "source": [
    "# 🏁 Execução do exemplo prático\n",
    "resultado = calcular_parametros(\n",
    "    demanda_diaria=40,\n",
    "    desvio_padrao_diario=8,\n",
    "    lead_time_dias=5,\n",
    "    custo_pedido=120,\n",
    "    custo_armazenagem=0.20,\n",
    "    preco_unitario=30\n",
    ")\n",
    "\n",
    "# Exibir parâmetros calculados\n",
    "for k, v in resultado.items():\n",
    "    print(f\"- {k}: {v}\")\n",
    "\n",
    "# Gerar imagem final\n",
    "gerar_cards_parametros(resultado)"
   ]
  },
  {
   "cell_type": "code",
   "execution_count": null,
   "metadata": {},
   "outputs": [],
   "source": [
    "# 📘 Explicações simples para leigos\n",
    "explicacoes = {\n",
    "    \"ES\": f\" Seu estoque mínimo de segurança deve ser de {resultado['ES']} unidades para evitar rupturas.\",\n",
    "    \"PP\": f\" Quando seu estoque atingir {resultado['PP']} unidades, é hora de fazer um novo pedido.\",\n",
    "    \"EMAX\": f\" O máximo de produtos que você deve manter é {resultado['EMAX']} unidades.\",\n",
    "    \"EM\": f\" Seu estoque médio ao longo do tempo será de aproximadamente {resultado['EM']} unidades.\",\n",
    "    \"LEC\": f\" O lote ideal de compra é de {resultado['LEC']} unidades para equilibrar custos.\",\n",
    "    \"IPD\": f\" Você fará um novo pedido a cada {resultado['IPD']} dias em média.\"\n",
    "}\n",
    "\n",
    "for explicacao in explicacoes.values():\n",
    "    display(Markdown(f\"- {explicacao}\"))"
   ]
  }
 ],
 "metadata": {
  "kernelspec": {
   "display_name": "Python 3",
   "language": "python",
   "name": "python3"
  },
  "language_info": {
   "name": "python",
   "version": "3.10"
  }
 },
 "nbformat": 4,
 "nbformat_minor": 2
}
